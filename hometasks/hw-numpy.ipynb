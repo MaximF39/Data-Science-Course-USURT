{
 "cells": [
  {
   "cell_type": "markdown",
   "metadata": {},
   "source": [
    "1. Вычислить определители третьего порядка:\n",
    "$$\n",
    "\\left|\\begin{array}{rrr}\n",
    "  3&-2&1\\\\\n",
    " -2&1&3\\\\\n",
    "  2&0&-2\\\\\n",
    "\\end{array} \\right|\n",
    "$$\n",
    "\n",
    "$$\n",
    "\\left|\\begin{array}{rrr}\n",
    " 2&0&5\\\\\n",
    " 1&3&16\\\\\n",
    " 0&-1&10\\\\\n",
    "\\end{array} \\right|\n",
    "$$\n",
    "\n",
    "$$\n",
    "\\left|\\begin{array}{rrr}\n",
    "  2&-1&3\\\\\n",
    " -2&3&2\\\\\n",
    "  0&2&5\\\\\n",
    "\\end{array} \\right|\n",
    "$$\n",
    "\n",
    "$$\n",
    "\\left|\\begin{array}{rrr}\n",
    " 2&1&0\\\\\n",
    " 1&0&3\\\\\n",
    " 0&5&-1\\\\\n",
    "\\end{array} \\right|\n",
    "$$"
   ]
  },
  {
   "cell_type": "code",
   "execution_count": 1,
   "metadata": {},
   "outputs": [
    {
     "name": "stdout",
     "output_type": "stream",
     "text": [
      "Решение первого задания писать здесь\n"
     ]
    }
   ],
   "source": [
    "print(\"Решение первого задания писать здесь\")"
   ]
  },
  {
   "cell_type": "markdown",
   "metadata": {},
   "source": [
    "Вычислить произведение матриц\n",
    "$$\n",
    " \\left(\\begin{array}{rrr}\n",
    "  5&-3&1\\\\\n",
    "  -2&1&3\\\\\n",
    "  \\end{array} \\right)~\\cdot\n",
    " \\left(\\begin{array}{rr}\n",
    "  1&2\\\\\n",
    "   2&-1\\\\\n",
    "  3&4\\\\\n",
    "  \\end{array} \\right)\n",
    "$$\n",
    "$$\\left(\\begin{array}{rrr}\n",
    "  1&2&1\\\\\n",
    "  3&1&2\\\\\n",
    "  \\end{array} \\right)~\\cdot\n",
    "  \\left(\\begin{array}{rr}\n",
    "  2&-1\\\\\n",
    "  1&3\\\\\n",
    "  0&1\\\\\n",
    "  \\end{array} \\right)\n",
    "$$\n",
    "$$\\left(\\begin{array}{rrrr}\n",
    "  1&3&2&-1\\\\\n",
    "  5&-1&6&2\\\\\n",
    "  -3&1&0&4\\\\\n",
    "  \\end{array} \\right)~\\cdot\n",
    "  \\left(\\begin{array}{c}\n",
    "  5\\\\\n",
    "  1\\\\\n",
    "  2\\\\\n",
    "  3\\\\\n",
    "  \\end{array} \\right)\n",
    "$$\n",
    "$$\n",
    " \\left(\\begin{array}{rrr}\n",
    "  5&1&1\\\\\n",
    "  2&1&3\\\\\n",
    "  1&1&3\\\\\n",
    "  \\end{array} \\right)~\\cdot\n",
    " \\left(\\begin{array}{rrr}\n",
    "  1&2&3\\\\\n",
    "   2&-1&1\\\\\n",
    "  3&4&5\\\\\n",
    "  \\end{array} \\right)\n",
    "$$"
   ]
  },
  {
   "cell_type": "code",
   "execution_count": 2,
   "metadata": {},
   "outputs": [
    {
     "name": "stdout",
     "output_type": "stream",
     "text": [
      "Решение второго задания писать здесь\n"
     ]
    }
   ],
   "source": [
    "print(\"Решение второго задания писать здесь\")"
   ]
  },
  {
   "cell_type": "markdown",
   "metadata": {},
   "source": [
    "Вычислить обратную матрицу\n",
    "$$\n",
    "\\left(\\begin{array}{cc}\n",
    "  7&2\\\\\n",
    "  3&1\\\\\n",
    "\\end{array} \\right)\n",
    "$$\n",
    "$$\n",
    "\\left(\\begin{array}{cc}\n",
    "  3&4\\\\\n",
    "  5&7\\\\\n",
    "\\end{array} \\right)\n",
    "$$\n",
    "$$\n",
    "\\left(\\begin{array}{rrr}\n",
    "  3&-1&0\\\\\n",
    " -2&1&1\\\\\n",
    "  2&-1&4\\\\\n",
    "\\end{array} \\right)\n",
    "$$\n",
    "$$\n",
    "\\left(\\begin{array}{rrr}\n",
    "  1&2&2\\\\\n",
    "  2&1&-2\\\\\n",
    "  2&-2&1\\\\\n",
    "\\end{array} \\right)\n",
    "$$"
   ]
  },
  {
   "cell_type": "code",
   "execution_count": 3,
   "metadata": {},
   "outputs": [
    {
     "name": "stdout",
     "output_type": "stream",
     "text": [
      "Решение третьего задания писать здесь\n"
     ]
    }
   ],
   "source": [
    "print(\"Решение третьего задания писать здесь\")"
   ]
  },
  {
   "cell_type": "markdown",
   "metadata": {},
   "source": [
    "Записать в матричной форме и решить СЛАУ\n",
    "$$\\left\\{\n",
    "       \\begin{array}{rcl}\n",
    "       3x-y & = & 5,  \\\\\n",
    "      -2x+y+z & = & 0,  \\\\\n",
    "       2x-y+4z & = & 15;\n",
    "       \\end{array}\n",
    "       \\right.\n",
    "$$\n",
    "$$\\left\\{\n",
    "       \\begin{array}{rcl}\n",
    "        x+2y+z & = & 3,  \\\\\n",
    "       2x+y+z & = & 1,  \\\\\n",
    "        x+3y +z & = & 2;\n",
    "       \\end{array}\n",
    "       \\right.\n",
    "$$\n",
    "$$\\left\\{\n",
    "       \\begin{array}{rcl}\n",
    "        x+2y+z & = & 5,  \\\\\n",
    "       2x+y+z & = & 3,  \\\\\n",
    "        x+3y-z & = & 1;\n",
    "       \\end{array}\n",
    "       \\right.\n",
    "$$\n",
    "$$\\left\\{\n",
    "       \\begin{array}{rcl}\n",
    "        2x+7y+13z & = & 0,  \\\\\n",
    "        3x+14y+12z & = & 18,  \\\\\n",
    "        5x+25y+16z & = & 39;\n",
    "       \\end{array}\n",
    "       \\right.\n",
    "$$"
   ]
  },
  {
   "cell_type": "code",
   "execution_count": 4,
   "metadata": {},
   "outputs": [
    {
     "name": "stdout",
     "output_type": "stream",
     "text": [
      "Решение четвертого задания писать здесь\n"
     ]
    }
   ],
   "source": [
    "print(\"Решение четвертого задания писать здесь\")"
   ]
  },
  {
   "cell_type": "markdown",
   "metadata": {},
   "source": [
    "Вычислить модуль вектора \n",
    "$$\\vec a =\\{6; 3; -2\\}$$\n",
    "$$\\vec a =\\{2; 4; -1\\}$$\n",
    "$$\\vec a =\\{3; 3; -3\\}$$\n",
    "$$\\vec a =\\{6; 1; -2\\}$$"
   ]
  },
  {
   "cell_type": "code",
   "execution_count": 5,
   "metadata": {},
   "outputs": [
    {
     "name": "stdout",
     "output_type": "stream",
     "text": [
      "Решение пятого задания писать здесь\n"
     ]
    }
   ],
   "source": [
    "print(\"Решение пятого задания писать здесь\")"
   ]
  },
  {
   "cell_type": "markdown",
   "metadata": {},
   "source": [
    "Вычислить косинус угла, образованного векторами\n",
    "$$\\vec a =\\{2; -3; 1\\} и ~\\vec b =\\{-3; 2; 2\\}$$\n",
    "$$\\vec a =\\{3; -2; 3\\} и ~\\vec b =\\{-1; 1; 3\\}$$\n",
    "$$\\vec a =\\{1; -1; 4\\} и ~\\vec b =\\{-2; 3; 5\\}$$\n",
    "$$\\vec a =\\{5; -4; 5\\} и ~\\vec b =\\{-4; 4; 6\\}$$\n"
   ]
  },
  {
   "cell_type": "code",
   "execution_count": 6,
   "metadata": {},
   "outputs": [
    {
     "name": "stdout",
     "output_type": "stream",
     "text": [
      "Решение шестого задания писать здесь\n"
     ]
    }
   ],
   "source": [
    "print(\"Решение шестого задания писать здесь\")"
   ]
  }
 ],
 "metadata": {
  "kernelspec": {
   "display_name": "Python 3",
   "language": "python",
   "name": "python3"
  },
  "language_info": {
   "codemirror_mode": {
    "name": "ipython",
    "version": 3
   },
   "file_extension": ".py",
   "mimetype": "text/x-python",
   "name": "python",
   "nbconvert_exporter": "python",
   "pygments_lexer": "ipython3",
   "version": "3.7.4"
  }
 },
 "nbformat": 4,
 "nbformat_minor": 2
}
