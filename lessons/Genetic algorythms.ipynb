{
 "cells": [
  {
   "cell_type": "code",
   "execution_count": 52,
   "metadata": {},
   "outputs": [],
   "source": [
    "import numpy as np\n",
    "import matplotlib.pyplot as plt\n",
    "\n",
    "from scipy.stats import norm"
   ]
  },
  {
   "cell_type": "markdown",
   "metadata": {},
   "source": [
    "# Генетические алгоритмы\n",
    "\n",
    "<p>Курс \"Модели и методы интеллектуального анализа данных\"</p>\n",
    "<p>Чернышов Юрий</p>\n",
    "<p>к.ф.-м.н., доцент кафедры ИТЗИ УрГУПС (Екатеринбург)</p>\n",
    "<p>yuchernyshov@usurt.ru</p>"
   ]
  },
  {
   "cell_type": "markdown",
   "metadata": {},
   "source": [
    "# Оглавление <a name='toc'>\n",
    "    \n",
    "<ol>\n",
    "<li><a href='#intro'>Введение</a></li>\n",
    "<li><a href='#links'>Ссылки</a></li>\n",
    "</ol>\n"
   ]
  },
  {
   "cell_type": "markdown",
   "metadata": {},
   "source": [
    "# Введение <a name='intro'></a>"
   ]
  },
  {
   "cell_type": "markdown",
   "metadata": {},
   "source": [
    "Генетические алгоритмы позволяют решать задачи оптимизации, используя эволючионные механизмы.\n",
    "\n",
    "Отбор, скрещивание, мутация.\n",
    "\n",
    "Элитизм, выбор ниш.\n",
    "\n",
    "Гиперпараметры.\n",
    "\n",
    "Стандартные библиотеки deap.\n",
    "\n",
    "При невозможности установки python и matplotlib для практической работы можно воспользоваться ресурсом \"Google colab\" https://colab.research.google.com/\n",
    "\n",
    "Для удобства задачи разбиты на группы, к которым можно быстро перейти в <a href='#toc'>Оглавлении</a>."
   ]
  },
  {
   "cell_type": "markdown",
   "metadata": {},
   "source": [
    "<a href='#toc'>Назад к Оглавлению</a>"
   ]
  },
  {
   "cell_type": "markdown",
   "metadata": {},
   "source": [
    "# Работа с библиотекой DEAP <a name='deap'></a>"
   ]
  },
  {
   "cell_type": "code",
   "execution_count": 24,
   "metadata": {},
   "outputs": [],
   "source": [
    "from deap import creator, base"
   ]
  },
  {
   "cell_type": "code",
   "execution_count": 17,
   "metadata": {},
   "outputs": [],
   "source": [
    "class Person():\n",
    "    \n",
    "    def __init__(self, name='noname'):\n",
    "        self.name = name\n",
    "        \n",
    "    def __str__(self):\n",
    "        return(\"class Person, name: {}\".format(self.name))\n",
    "    "
   ]
  },
  {
   "cell_type": "code",
   "execution_count": 18,
   "metadata": {},
   "outputs": [],
   "source": [
    "creator.create(\"Developer\", Person, position = \"Developer\", programming_lang = set)"
   ]
  },
  {
   "cell_type": "code",
   "execution_count": 21,
   "metadata": {},
   "outputs": [],
   "source": [
    "dev1 = creator.Developer(\"Steve\")"
   ]
  },
  {
   "cell_type": "code",
   "execution_count": 22,
   "metadata": {},
   "outputs": [
    {
     "name": "stdout",
     "output_type": "stream",
     "text": [
      "class Person, name: Steve\n"
     ]
    }
   ],
   "source": [
    "print(dev1)"
   ]
  },
  {
   "cell_type": "code",
   "execution_count": 25,
   "metadata": {},
   "outputs": [],
   "source": [
    "creator.create(\"FitnessMax\", base.Fitness, weights=(1.0,))"
   ]
  },
  {
   "cell_type": "code",
   "execution_count": 34,
   "metadata": {},
   "outputs": [
    {
     "data": {
      "text/plain": [
       "(<property at 0x7fc4057863b0>, ())"
      ]
     },
     "execution_count": 34,
     "metadata": {},
     "output_type": "execute_result"
    }
   ],
   "source": [
    "creator.FitnessMax.values, creator.FitnessMax.wvalues"
   ]
  },
  {
   "cell_type": "code",
   "execution_count": 37,
   "metadata": {},
   "outputs": [],
   "source": [
    "creator.create(\"Individual\", list, fitness=creator.FitnessMax)"
   ]
  },
  {
   "cell_type": "code",
   "execution_count": 39,
   "metadata": {},
   "outputs": [
    {
     "data": {
      "text/plain": [
       "deap.creator.Individual"
      ]
     },
     "execution_count": 39,
     "metadata": {},
     "output_type": "execute_result"
    }
   ],
   "source": [
    "creator.Individual"
   ]
  },
  {
   "cell_type": "code",
   "execution_count": 40,
   "metadata": {},
   "outputs": [],
   "source": [
    "toolbox = base.Toolbox()"
   ]
  },
  {
   "cell_type": "code",
   "execution_count": 41,
   "metadata": {},
   "outputs": [],
   "source": [
    "def f(name='noname', occupation='none'):\n",
    "    print(\"My name is {}, I am a {}\".format(name, occupation))"
   ]
  },
  {
   "cell_type": "code",
   "execution_count": 45,
   "metadata": {},
   "outputs": [],
   "source": [
    "toolbox.register(\"f_Ivan\", f, name='Ivan')\n",
    "toolbox.register(\"f_Developer\", f, occupation='Developer')"
   ]
  },
  {
   "cell_type": "code",
   "execution_count": 46,
   "metadata": {},
   "outputs": [
    {
     "name": "stdout",
     "output_type": "stream",
     "text": [
      "My name is Ivan, I am a none\n",
      "My name is noname, I am a Developer\n"
     ]
    }
   ],
   "source": [
    "toolbox.f_Ivan()\n",
    "toolbox.f_Developer()"
   ]
  },
  {
   "cell_type": "code",
   "execution_count": 47,
   "metadata": {},
   "outputs": [],
   "source": [
    "from deap import tools"
   ]
  },
  {
   "cell_type": "code",
   "execution_count": 48,
   "metadata": {},
   "outputs": [],
   "source": [
    "toolbox.register(\"select\", tools.selRoulette)"
   ]
  },
  {
   "cell_type": "code",
   "execution_count": 49,
   "metadata": {},
   "outputs": [],
   "source": [
    "toolbox.register(\"mate\", tools.cxOnePoint)"
   ]
  },
  {
   "cell_type": "code",
   "execution_count": 50,
   "metadata": {},
   "outputs": [],
   "source": [
    "toolbox.register(\"mutate\", tools.mutFlipBit)"
   ]
  },
  {
   "cell_type": "code",
   "execution_count": 68,
   "metadata": {},
   "outputs": [],
   "source": [
    "toolbox.register(\"get_val\", np.random.choice, [0,1], 10)\n",
    "\n",
    "randomList = tools.initRepeat(list, toolbox.get_val, 10)"
   ]
  },
  {
   "cell_type": "code",
   "execution_count": 70,
   "metadata": {},
   "outputs": [
    {
     "data": {
      "text/plain": [
       "[array([0, 1, 1, 1, 1, 1, 1, 0, 1, 0]),\n",
       " array([0, 1, 0, 1, 1, 1, 1, 0, 0, 1]),\n",
       " array([0, 1, 1, 1, 1, 1, 1, 1, 0, 0]),\n",
       " array([0, 0, 0, 1, 1, 1, 0, 1, 0, 1]),\n",
       " array([0, 1, 1, 0, 1, 1, 0, 1, 0, 0]),\n",
       " array([0, 0, 0, 1, 1, 0, 0, 1, 0, 0]),\n",
       " array([1, 1, 0, 1, 1, 1, 0, 1, 0, 0]),\n",
       " array([1, 1, 0, 1, 1, 0, 0, 1, 0, 1]),\n",
       " array([0, 0, 0, 0, 1, 0, 1, 0, 0, 1]),\n",
       " array([0, 1, 1, 0, 1, 1, 1, 1, 0, 1])]"
      ]
     },
     "execution_count": 70,
     "metadata": {},
     "output_type": "execute_result"
    }
   ],
   "source": [
    "randomList"
   ]
  },
  {
   "cell_type": "code",
   "execution_count": 72,
   "metadata": {},
   "outputs": [],
   "source": [
    "def calcFitnessValue(individual):\n",
    "    return(np.sum(individial))\n",
    "\n",
    "toolbox.register(\"evaluate\", calcFitnessValue)"
   ]
  },
  {
   "cell_type": "markdown",
   "metadata": {},
   "source": [
    "<a href='#toc'>Назад к Оглавлению</a>"
   ]
  },
  {
   "cell_type": "markdown",
   "metadata": {},
   "source": [
    "# Ссылки <a name='links'></a>"
   ]
  },
  {
   "cell_type": "markdown",
   "metadata": {},
   "source": [
    "https://colab.research.google.com/ - интерактивная среда для программирования на python"
   ]
  },
  {
   "cell_type": "markdown",
   "metadata": {},
   "source": [
    "<a href='#toc'>Назад к Оглавлению</a>"
   ]
  }
 ],
 "metadata": {
  "kernelspec": {
   "display_name": "Python 3",
   "language": "python",
   "name": "python3"
  },
  "language_info": {
   "codemirror_mode": {
    "name": "ipython",
    "version": 3
   },
   "file_extension": ".py",
   "mimetype": "text/x-python",
   "name": "python",
   "nbconvert_exporter": "python",
   "pygments_lexer": "ipython3",
   "version": "3.7.4"
  }
 },
 "nbformat": 4,
 "nbformat_minor": 2
}
